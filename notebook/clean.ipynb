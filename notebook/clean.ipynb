{
 "cells": [
  {
   "cell_type": "code",
   "execution_count": 5,
   "metadata": {},
   "outputs": [
    {
     "name": "stdout",
     "output_type": "stream",
     "text": [
      "Initial number of tweets: 100\n",
      "Number of tweets after filtering dirty content: 91\n",
      "Cleaned dataset saved to: ../data/processed/tweets_master_clean.csv\n"
     ]
    }
   ],
   "source": [
    "# %% [markdown]\n",
    "# # Manual Cleaning of Tweets Dataset\n",
    "# \n",
    "# In this notebook, we'll remove tweets that contain explicit or \"dirty\" words. You can modify the list of banned words as needed.\n",
    "# \n",
    "# **Steps:**\n",
    "# 1. Load the dataset (assumed to be `tweets_master.csv`).\n",
    "# 2. Define a set of banned words.\n",
    "# 3. Create a function to flag tweets containing any banned word.\n",
    "# 4. Filter out those tweets.\n",
    "# 5. Save the cleaned dataset as a new CSV file.\n",
    "\n",
    "# %% [code]\n",
    "import pandas as pd\n",
    "import re\n",
    "\n",
    "# Define a set of banned/dirty words (modify this list as needed)\n",
    "dirty_words = {\n",
    "    \"sex\", \"sexual\", \"nude\", \"explicit\", \"porn\", \"brazzers\",\n",
    "    \"fuck\", \"fucking\", \"ass\", \"bitch\", \"slut\",\"freaks\",\"swingers\"\n",
    "}\n",
    "\n",
    "# %% [markdown]\n",
    "# ## Function to Check for Dirty Words\n",
    "# This function splits the text into tokens and checks if any token is in our banned words list.\n",
    "\n",
    "# %% [code]\n",
    "def is_dirty_tweet(text, dirty_words_set):\n",
    "    \"\"\"\n",
    "    Returns True if any banned word appears as a substring in the text.\n",
    "    \"\"\"\n",
    "    if not isinstance(text, str):\n",
    "        return False\n",
    "    text_lower = text.lower()\n",
    "    # Option A: check if any banned word is in the entire text:\n",
    "    return any(banned_word in text_lower for banned_word in dirty_words_set)\n",
    "    \n",
    "    # Option B: check token-wise (less aggressive but may be adjusted)\n",
    "    # tokens = re.split(r'\\W+', text_lower)\n",
    "    # return any(banned_word in token for token in tokens for banned_word in dirty_words_set)\n",
    "\n",
    "\n",
    "# %% [markdown]\n",
    "# ## Load the Dataset\n",
    "# We load our master CSV file containing all tweets.\n",
    "\n",
    "# %% [code]\n",
    "# Update the path if needed\n",
    "input_csv = \"../data/processed/tweets_master.csv\"\n",
    "df = pd.read_csv(input_csv)\n",
    "print(\"Initial number of tweets:\", len(df))\n",
    "\n",
    "# %% [markdown]\n",
    "# ## Filter Out Dirty Tweets\n",
    "# We apply the filter and create a new DataFrame with only clean tweets.\n",
    "\n",
    "# %% [code]\n",
    "df_clean = df[~df[\"text\"].apply(lambda x: is_dirty_tweet(x, dirty_words))]\n",
    "print(\"Number of tweets after filtering dirty content:\", len(df_clean))\n",
    "\n",
    "# %% [markdown]\n",
    "# ## Optional: Inspect the Cleaned Data\n",
    "# Let's view a few rows of the cleaned DataFrame.\n",
    "\n",
    "# %% [code]\n",
    "df_clean.head()\n",
    "\n",
    "# %% [markdown]\n",
    "# ## Save the Cleaned Dataset\n",
    "# We save the cleaned tweets to a new CSV file.\n",
    "\n",
    "# %% [code]\n",
    "output_csv = \"../data/processed/tweets_master_clean.csv\"\n",
    "df_clean.to_csv(output_csv, index=False)\n",
    "print(\"Cleaned dataset saved to:\", output_csv)\n"
   ]
  }
 ],
 "metadata": {
  "kernelspec": {
   "display_name": "venv",
   "language": "python",
   "name": "python3"
  },
  "language_info": {
   "codemirror_mode": {
    "name": "ipython",
    "version": 3
   },
   "file_extension": ".py",
   "mimetype": "text/x-python",
   "name": "python",
   "nbconvert_exporter": "python",
   "pygments_lexer": "ipython3",
   "version": "3.11.5"
  }
 },
 "nbformat": 4,
 "nbformat_minor": 2
}
